{
 "cells": [
  {
   "cell_type": "code",
   "execution_count": 7,
   "metadata": {},
   "outputs": [],
   "source": [
    "from nltk.tokenize import word_tokenize\n",
    "from string import punctuation\n",
    "import random"
   ]
  },
  {
   "cell_type": "markdown",
   "metadata": {},
   "source": [
    "Clean training corpus"
   ]
  },
  {
   "cell_type": "code",
   "execution_count": 19,
   "metadata": {},
   "outputs": [],
   "source": [
    "path = \"./ind_news_2022_1M-sentences.txt\"\n",
    "data = []\n",
    "with open(path, \"r\", encoding=\"UTF-8\") as file:\n",
    "    i = 0\n",
    "    for line in file:\n",
    "        # print(\"Iteration\", str(i), \": \", line)\n",
    "        i = i + 1\n",
    "        data.append(line)"
   ]
  },
  {
   "cell_type": "code",
   "execution_count": 45,
   "metadata": {},
   "outputs": [],
   "source": [
    "f = open(\"cleaned_corpus.txt\", \"w\", encoding=\"UTF-8\")\n",
    "for sentence in data:\n",
    "\twords = word_tokenize(sentence)[1:]\n",
    "\tprocessed_words = []\n",
    "\tfor word in words:\n",
    "\t\tif word.isnumeric():\n",
    "\t\t\tprocessed_words.append(\"n4m3r1c\")\n",
    "\t\telif word not in punctuation and word != \"''\" and word != \"“\" and word != \"”\" and word != \"\":\n",
    "\t\t\tprocessed_words.append(word.lower())\n",
    "\tnew_sentence = \"\"\n",
    "\tfor word in processed_words:\n",
    "\t\tnew_sentence += \" \" + word\n",
    "\t# print(processed_words)\n",
    "\t# print(new_sentence)\n",
    "\tf.write(new_sentence + \"\\n\")\n",
    "f.close()"
   ]
  },
  {
   "cell_type": "markdown",
   "metadata": {},
   "source": [
    "Clean testing corpus"
   ]
  },
  {
   "cell_type": "code",
   "execution_count": 1,
   "metadata": {},
   "outputs": [],
   "source": [
    "path = \"./ind_news_2019_10K/ind_news_2019_10K-sentences.txt\"\n",
    "data = []\n",
    "with open(path, \"r\", encoding=\"UTF-8\") as file:\n",
    "    i = 0\n",
    "    for line in file:\n",
    "        i = i + 1\n",
    "        data.append(line)"
   ]
  },
  {
   "cell_type": "code",
   "execution_count": 8,
   "metadata": {},
   "outputs": [],
   "source": [
    "f = open(\"cleaned_test.txt\", \"w\", encoding=\"UTF-8\")\n",
    "for sentence in data:\n",
    "\twords = word_tokenize(sentence)[1:]\n",
    "\tprocessed_words = []\n",
    "\tfor word in words:\n",
    "\t\tif word.isnumeric():\n",
    "\t\t\tprocessed_words.append(\"n4m3r1c\")\n",
    "\t\telif word not in punctuation and word != \"''\" and word != \"“\" and word != \"”\" and word != \"‘\" and word != \"’\" and word != \"\" and word != \" \" and word != \"\\n\":\n",
    "\t\t\tprocessed_words.append(word.lower())\n",
    "\tnew_sentence = \"\"\n",
    "\tfor word in processed_words:\n",
    "\t\tnew_sentence += word + \" \"\n",
    "\t# print(processed_words)\n",
    "\t# print(new_sentence)\n",
    "\tf.write(new_sentence + \"\\n\")\n",
    "f.close()"
   ]
  }
 ],
 "metadata": {
  "kernelspec": {
   "display_name": "Python 3",
   "language": "python",
   "name": "python3"
  },
  "language_info": {
   "codemirror_mode": {
    "name": "ipython",
    "version": 3
   },
   "file_extension": ".py",
   "mimetype": "text/x-python",
   "name": "python",
   "nbconvert_exporter": "python",
   "pygments_lexer": "ipython3",
   "version": "3.10.9"
  }
 },
 "nbformat": 4,
 "nbformat_minor": 2
}
